{
  "cells": [
    {
      "cell_type": "markdown",
      "metadata": {
        "id": "Vd87rQ21XNM7"
      },
      "source": [
        "<head>\n",
        "  <meta name=\"author\" content=\"Rogério de Oliveira\">\n",
        "  <meta institution=\"author\" content=\"Universidade Presbiteriana Mackenzie\">\n",
        "</head>\n",
        "\n",
        "<img src=\"http://meusite.mackenzie.br/rogerio/mackenzie_logo/UPM.2_horizontal_vermelho.jpg\" width=300, align=\"right\">\n",
        "<!-- <h1 align=left><font size = 6, style=\"color:rgb(200,0,0)\"> optional title </font></h1> -->"
      ]
    },
    {
      "cell_type": "markdown",
      "metadata": {
        "id": "OuudnKkl5QCa"
      },
      "source": [
        "# Modelo"
      ]
    },
    {
      "cell_type": "markdown",
      "metadata": {
        "id": "0mJcxcbgYUze"
      },
      "source": []
    },
    {
      "cell_type": "markdown",
      "metadata": {
        "id": "Sj-M-XXjX3xE"
      },
      "source": [
        "# Aquisição dos Dados\n"
      ]
    },
    {
      "cell_type": "code",
      "execution_count": 1,
      "metadata": {
        "id": "BH5WC0BdYWur"
      },
      "outputs": [],
      "source": [
        "import urllib.request  \n",
        "\n",
        "texto = []\n",
        "\n",
        "for line in urllib.request.urlopen('https://raw.githubusercontent.com/joaonart/mcz-pl-a1-modelo-ja/master/database/texto.txt'): \n",
        "    texto.append(line.decode('utf-8'))\n",
        "\n",
        "#for line in urllib.request.urlopen('https://raw.githubusercontent.com/joaonart/mcz-pl-a1-modelo-ja/master/database/345.txt'): \n",
        "#    texto.append(line.decode('utf-8'))\n",
        "\n",
        "for i in range(len(texto)):\n",
        "    texto[i] = texto[i].lower() # para unicidade\n",
        "    texto[i] = texto[i].replace('\\n','')\n",
        "    texto[i] = texto[i].replace('.','')\n",
        "    texto[i] = texto[i].replace(',','')\n",
        "    texto[i] = texto[i].replace('(','')\n",
        "    texto[i] = texto[i].replace(')','')\n",
        "    texto[i] = texto[i].replace('?','')\n",
        "    texto[i] = texto[i].replace('\\'','') # elimina ' e \"\n"
      ]
    },
    {
      "cell_type": "markdown",
      "metadata": {
        "id": "qIUQnWkHX49t"
      },
      "source": [
        "# Construção do Dicionário"
      ]
    },
    {
      "cell_type": "code",
      "execution_count": 2,
      "metadata": {
        "colab": {
          "base_uri": "https://localhost:8080/"
        },
        "id": "p0ij5U6zYXXU",
        "outputId": "8b99545d-4dc6-427d-d6eb-cd4b190365ff"
      },
      "outputs": [
        {
          "name": "stdout",
          "output_type": "stream",
          "text": [
            "{'quais': 4, 'janelas': 5, 'foram': 1, 'fechadas': 1, 'e': 55, 'estão': 16, 'abertas': 2, 'ou': 10, 'podemos': 8, 'abrir': 2, 'isolamento': 2, 'social': 2, 'é': 10, 'necessário!': 1, 'por': 6, 'isso': 13, 'estamos': 19, 'impedidos': 1, 'de': 60, 'circular': 2, 'aglomerar': 1, 'abraçar': 1, 'beijar': 1, 'pegar': 1, 'no': 15, 'colo': 2, 'visitar': 1, 'encontrar': 4, 'pessoalmente': 1, 'etc': 2, 'somos': 4, 'seres': 4, 'contato': 1, 'do': 11, 'convívio': 3, 'pessoal': 1, 'nós': 5, 'humanos': 1, 'grupais!': 1, 'neste': 1, 'momento': 5, 'uma': 5, 'nossas': 6, 'principais': 1, 'características': 1, 'encontra-se': 1, 'suspensa': 1, 'em': 9, 'stand': 1, 'by': 1, 'fazendo-nos': 1, 'repensar': 1, 'quem': 1, 'afinal': 3, 'o': 19, 'que': 63, 'está': 10, 'acontecendo': 4, 'para': 19, 'onde': 3, 'tudo': 5, 'nos': 15, 'levará': 1, 'quanto': 2, 'tempo': 9, 'irá': 1, 'durar': 1, 'tantas': 1, 'outras': 3, 'perguntas': 2, 'já': 5, 'sabemos': 2, 'ninguém': 1, 'imune': 1, 'ao': 4, 'coronavírus': 1, 'mas': 8, 'alguns': 2, 'grupos': 1, 'serão': 2, 'mais': 8, 'vulneráveis': 1, 'a': 37, 'ele': 3, 'podendo': 1, 'levar': 2, 'consequências': 2, 'fatais': 1, 'forma': 3, 'defendermos': 1, 'passou': 3, 'ser': 9, 'um': 13, 'exercício': 2, 'coletivo': 1, 'proteção': 1, 'todos': 12, 'sendo': 4, 'instruídos': 1, 'unirmos': 1, 'melhor': 3, 'enfrentarmos': 1, 'vírus': 2, 'fazê-lo': 1, 'mínimo': 1, 'possível': 2, 'até': 2, 'surjam': 1, 'formas': 4, 'efetivas': 1, 'eliminá-lo': 1, 'como': 15, 'vacina': 1, 'medicamentos': 1, 'com': 16, 'mente': 2, 'proteger': 2, 'mesmos': 1, 'outro': 2, 'os': 13, 'cuidados': 2, 'são': 3, 'inúmeros': 1, 'ponto': 1, 'ficarmos': 1, 'perdidos': 1, 'nesse': 2, '“novo': 1, 'normal”': 1, 'pois': 3, 'geral': 2, 'nosso': 5, 'processo': 2, 'aprendizagem': 1, 'parte': 3, 'da': 12, 'busca': 2, 'registros': 2, 'existentes': 1, 'porém': 4, 'na': 7, 'atual': 3, 'situação': 2, 'esse': 4, 'método': 1, 'não': 12, 'muito': 6, 'eficaz': 1, 'nunca': 4, 'vivemos': 1, 'nada': 1, 'parecido': 1, 'tendo': 2, 'adaptar': 2, 'toda': 1, 'realidade': 1, 'extremamente': 1, 'rápida': 3, 'as': 12, 'pandemias': 1, 'se': 9, 'caracterizam': 1, 'pelo': 2, 'caos': 1, 'mudanças': 2, 'comportamento': 1, 'caso': 1, 'covid-19': 1, 'disseminação': 1, 'informações': 2, 'sem': 3, 'discriminação': 1, 'verdadeiro': 1, 'factível': 1, 'daquilo': 1, 'falso': 1, 'comprovado': 1, 'cientificamente': 1, 'vem': 1, 'lados': 1, 'fontes': 1, 'dizer': 3, 'rodeados': 1, 'místicas': 1, 'religiosas': 1, 'também': 9, 'científicas': 1, 'tentando': 1, 'explicação': 1, 'determine': 1, '“nossa': 1, 'salvação”': 1, 'ainda': 2, 'alguém': 1, 'algo': 8, 'assuma': 1, 'aquela': 1, 'posição': 1, 'tão': 5, 'conhecida': 1, 'das': 3, 'crianças': 3, 'encarregar': 1, 'autoridade': 2, '–': 2, 'pais': 2, 'darem': 1, 'conta': 4, 'vida': 2, 'adulta': 1, 'tendemos': 1, 'repetir': 1, 'essa': 2, 'hoje': 2, 'difícil': 1, 'papel': 3, 'seja': 1, 'ocupado': 1, 'desejo': 1, 'seria': 1, 'ciência': 1, 'pudesse': 1, 'ocupar': 1, 'nem': 2, 'mesmo': 7, 'ela': 1, 'efetiva': 1, 'desejando': 1, 'fato': 2, 'percebemos': 1, 'pode': 2, 'maior': 1, 'apesar': 2, 'seu': 1, 'tamanho': 2, 'microscópico': 1, 'temos': 4, 'aprendido': 1, 'durante': 1, 'conjuntamente': 1, 'cientistas': 1, 'suas': 4, 'tentativas': 1, 'mundo': 1, 'afora': 1, 'enquanto': 2, 'seguindo': 1, 'algumas': 3, 'novas': 4, 'normas': 1, 'higiene': 1, 'buscando': 1, 'minimizar': 1, 'efeitos': 1, 'perdas': 4, 'só': 2, 'entes': 1, 'queridos': 1, 'conhecidos': 1, 'espaço': 3, 'planos': 1, 'certezas': 1, 'devemos': 1, 'posicionar': 1, 'diante': 3, 'qual': 2, 'nossa': 4, 'pensar': 3, 'reprogramar': 1, 'olhar': 1, 'buscar': 2, 'garantia': 2, 'conquistas': 1, 'fundamentais': 2, 'novos': 4, 'significados': 1, 'reconfigurar': 1, 'parâmetros': 1, 'redefinir': 1, 'metas': 1, 'aprender': 1, 'convivência': 1, 'aparentemente': 1, 'reconsiderado': 1, 'partir': 3, 'agora': 2, 'teremos': 5, 'através': 2, 'criatividade': 1, 'configurá-lo': 1, 'novo': 4, 'respostas': 2, 'novas!': 1, 'parece': 1, 'fácil': 2, 'parece!': 1, 'mudar': 1, 'readaptar-se': 1, 'à': 3, 'exige': 1, 'alternativas': 1, 'muitas': 4, 'vezes': 2, 'queremos': 2, 'mudança': 1, 'voltar': 1, 'jeito': 2, 'anterior': 1, 'existe': 1, 'aprendemos': 1, 'além': 3, 'precisamos': 2, 'contar': 1, 'uns': 2, 'outros': 6, 'voltaremos': 1, 'lugar': 4, 'talvez': 2, 'gere': 1, 'desconforto': 1, 'dando': 1, 'poderá': 2, 'querendo': 1, 'acontecendo!': 1, 'dizem': 1, 'planeta': 1, 'afastamento': 1, 'tem': 1, 'gerado': 1, 'frutos': 1, 'importantes': 1, 'dos': 8, 'aqui': 1, 'habitam': 2, 'mares': 1, 'rios': 1, 'florestas': 1, 'animais': 1, 'ar': 1, 'demonstrando': 1, 'aspectos': 2, 'positivos': 1, 'ganhos': 1, 'nossos': 2, 'indiretos': 1, 'simples': 1, 'afastarmos!': 1, 'artistas': 1, 'bem': 2, 'encontram': 1, 'alternativa': 1, 'sublimar': 1, 'conflitos': 1, 'casas': 2, 'entrando': 1, 'nas': 2, 'proporcionar': 1, 'espetáculos': 1, 'vividos': 1, 'antes': 2, 'têm': 2, 'levado': 1, 'sua': 3, 'arte': 1, 'caminhões': 1, 'cruzam': 1, 'ruas': 1, 'desertas': 1, 'enchem': 1, 'varandas': 1, 'espectadores': 1, 'pessoas': 1, 'passaram': 1, 'relacionar': 1, 'sacadas': 1, 'fazem': 1, 'reuniões': 1, 'virtuais': 3, 'encontrando': 2, 'assim': 1, 'possibilidades': 1, 'reencontros': 1, 'reinventar': 2, 'casa!': 1, 'trabalhos': 2, 'voluntários': 2, 'fazendo': 2, 'chegar': 1, 'àqueles': 1, 'tinham': 2, 'pouco': 1, 'nenhum': 1, 'acesso': 1, 'alimento': 1, 'vestuário': 1, 'atendimento': 1, 'médico': 1, 'psicológico': 1, 'mesmas': 1, 'participando': 1, 'atendimentos': 1, 'modalidade': 3, 'remota': 1, 'famílias': 2, 'convivendo': 1, 'oportunidade': 1, 'fazer': 4, 'descobrindo': 1, 'sempre': 3, 'estar': 5, 'junto': 2, 'ambiente': 2, 'tanto': 3, 'mães': 1, 'agregar': 1, 'home': 1, 'office': 1, 'aulas': 1, 'online': 3, 'filhos': 2, 'brincadeiras': 1, 'afazeres': 1, 'domésticos;': 1, 'unindo': 1, 'suprir': 2, 'desemprego': 1, 'alguma': 1, 'atividade': 2, 'extra': 1, 'administrando': 1, 'dificuldades': 1, 'oriundas': 1, 'relacionamentos': 1, 'naturais': 1, 'reservando': 1, 'falar': 1, 'sobre': 1, 'problemas': 3, 'comuns': 1, 'extremos': 1, 'aqueles': 1, 'deflagram': 1, 'violência': 1, 'doméstica': 1, 'aumento': 1, 'ingestão': 1, 'álcool': 1, 'drogas': 1, '―': 1, 'intensificaram': 1, 'redes': 1, 'sociais': 1, 'disposição': 1, 'ajudar': 1, 'importante': 2, 'colocando': 1, 'riscos': 1, 'enfim': 1, 'há': 1, 'grande': 1, 'tolerância': 1, 'esforço': 1, 'consciência': 2, 'deve': 1, 'atenta': 1, 'somente': 2, 'ficar': 1, 'casa': 2, 'garante': 1, 'absolutos!': 1, 'estivemos': 1, 'próximos': 1, 'empenhados': 1, 'numa': 1, 'tarefa': 1, 'conjunta': 1, 'contamos': 1, 'solidariedade': 1, 'praticamos': 1, 'atentemos': 1, 'aos': 1, 'avós': 1, 'eram': 1, 'figuras': 1, 'amorosas': 1, 'úteis': 1, '“braços”': 1, 'ajuda': 1, 'dar': 2, 'necessidades': 1, 'netos': 1, 'resguardados': 1, 'recebendo': 1, 'visitas': 1, 'moram': 1, 'sozinhos': 2, 'tenham': 1, 'estado': 2, 'chamadas': 1, 'atualmente': 1, 'seguimos': 1, 'pensando': 1, 'tempo!': 1, 'ocupá-lo': 1, 'organizá-lo': 1, 'cada': 2, 'terá': 1, 'descobrir': 1, 'fez': 1, 'lembrar': 2, 'filme': 1, 'feitiço': 1, '1993': 1, 'personagem': 1, 'principal': 1, 'acorda': 1, 'dia': 5, 'início': 1, 'resistiu': 1, 'acreditar': 1, 'irritou-se': 1, 'brigou': 1, 'principalmente': 1, 'resolveu': 1, 'aproveitar': 2, 'diferente': 1, 'desta': 3, 'algum': 1, 'depois': 1, 'acordou': 1, 'seguinte': 2, 'simbolismo': 1, 'mensagem': 1, 'central:': 1, '“o': 2, 'acordamos': 1, 'seguinte”': 2, 'ainda:': 1, 'conseguirmos': 1, 'acordar': 2, 'pergunta': 1, 'clara': 1, 'citações': 1, 'acima': 1, 'demonstram': 1, 'começamos': 1, 'estes': 1, 'tempos': 1, 'quebrando': 1, 'tabus': 1, 'tal': 1, 'abrem': 1, 'virão': 2, 'estudo': 1, 'investigação': 1, 'reflexão': 1, 'entretanto': 1, 'acreditamos': 1, 'saúde': 2, 'mental': 2, 'contribuir': 1, 'este': 4, '“acordar”': 1, 'enfrentamento': 1, 'necessitará': 1, 'condição': 1, 'momentos': 3, 'crise': 1, 'emoções': 2, 'acumulam': 1, 'fica': 1, 'complicado': 1, 'lidarmos': 1, 'adultos': 2, 'aparelhados': 1, 'administrarem': 1, 'tais': 1, 'muitos': 2, 'precisam': 3, 'seus': 2, 'vez': 1, 'necessitam': 1, 'acolhedor': 1, 'esses': 1, 'expostos': 1, 'às': 2, 'vivendo': 3, 'finitude': 1, 'ameaças': 1, 'reais': 1, 'lidar': 2, 'medos': 1, 'ansiedades': 1, 'preocupações': 1, 'incertezas': 1, 'ebulição': 1, 'pensares': 1, 'constatações': 1, 'vão': 1, 'ocupando': 1, 'juntando': 1, 'espaços': 1, 'antigos': 1, 'comum': 1, 'comprovar': 2, 'medida': 1, 'olhamos': 1, 'longe': 2, 'porque': 1, 'olharmos': 1, 'perto': 1, 'veremos': 1, 'intensidade': 1, 'sentir': 1, 'desse': 1, 'podem': 1, 'distintos': 1, 'barcos': 1, 'vários': 1, 'apresentam': 1, 'diferentes': 1, 'tamanhos': 1, 'velocidades': 1, 'certeza': 1, 'mesma': 1, 'tempestade!': 1, 'profissionais': 1, 'psicologia': 2, 'juntos': 4, 'pandemia': 1, 'igualmente': 1, 'podermos': 1, 'continuar': 1, 'ajudando': 1, 'pacientes': 1, 'familiares': 1, 'consultas': 1, 'presenciais': 1, 'conhecidas': 1, 'recomendadas': 1, 'portanto': 1, 'profissional': 1, 'esta': 1, 'novidade': 1, 'própria': 1, 'viva': 1, 'aí': 2, 'dito': 1, 'necessidade': 1, 'entanto': 1, 'abre': 1, 'amplia': 1, 'formato:': 1, 'chegando': 1, 'chegaremos': 1, 'num': 1, 'aliás': 1, 'baixas': 1, 'desacomodações': 1, 'descobertas': 1, 'precisaremos': 1, 'futuro': 2, 'pela': 1, 'frente': 1, 'cuidadas': 1, 'acompanhadas': 1, 'nessas': 1, 'vivências': 1, 'poderem': 1, 'entender': 1, 'segundo': 1, 'linguagem': 1, 'passando': 1, 'muita': 1, 'exposição': 1, 'angústias': 1, 'negações': 1, 'elas': 1, 'terão': 1, 'capazes': 1, 'será': 1, 'gerações': 1, 'seguintes': 1, 'estejam': 1, 'habilitadas': 1, 'enfrentar': 1, 'civilização': 1, 'conscientes': 1, 'capacidades': 1, 'habitantes': 1, 'percepção': 1, 'saberemos': 1, 'fortes': 1, 'próximo': 1, 'ter': 1, 'pensamento': 1, 'serve': 1, 'conforto': 1, 'aconchego': 1, 'carinho': 1, 'abraço': 1, 'seguem': 1, '“alimentos”': 1, 'alma': 1, 'sejam': 1, 'eles': 2, 'físicos': 1, 'cuidar': 2, 'demais': 1, 'corpo': 1, 'elementos': 1, 'ser!': 1, 'então': 1, 'vamos': 2}\n"
          ]
        }
      ],
      "source": [
        "mydict = {}                             # crie um dicionário vazio\n",
        "\n",
        "for line in texto:\n",
        "\n",
        "  line = line.lower()                   # converte para lower\n",
        "  words = line.split()                  # separa cada palavra\n",
        "#  print(words)\n",
        "\n",
        "  for word in words:                      # para cada palavra em words\n",
        "    if word not in mydict.keys():         # se palavra não está no dicionário \n",
        "      mydict[word] = 1                    # acrescenta a word com o valor 1\n",
        "    else:                                 # se a entrada já existe \n",
        "      mydict[word] =  mydict[word] + 1    # apenas soma 1 ao valor já existente\n",
        "\n",
        "print(mydict)  "
      ]
    },
    {
      "cell_type": "markdown",
      "metadata": {
        "id": "VcGMWTB6YEkv"
      },
      "source": [
        "# Exibição dos Resultados"
      ]
    },
    {
      "cell_type": "code",
      "execution_count": 3,
      "metadata": {
        "colab": {
          "base_uri": "https://localhost:8080/",
          "height": 615
        },
        "id": "hY9E6f95YX7Y",
        "outputId": "3d68113c-75d3-4db3-9d5c-e5ff37fcd6cb"
      },
      "outputs": [
        {
          "data": {
            "image/png": "[encoded data removed]",
            "text/plain": [
              "<Figure size 1728x720 with 1 Axes>"
            ]
          },
          "metadata": {
            "needs_background": "light"
          },
          "output_type": "display_data"
        }
      ],
      "source": [
        "import pandas as pd\n",
        "import seaborn as sns\n",
        "import matplotlib as mpl\n",
        "import matplotlib.pyplot as plt\n",
        "import numpy as np\n",
        "\n",
        "df = pd.DataFrame(mydict.items(),  columns=['word', 'count']).sort_values('count',ascending=False)\n",
        "df = df[df['count'] > 4] # somente termos com mais de 4 ocorrências\n",
        "#df = df.iloc[ int(len(df)/2) - 10 : int(len(df)/2) + 10 ] # para livros ou textos com muitos termos limita a um número mínimo de termos\n",
        "\n",
        "plt.figure(figsize=(24,10))\n",
        "mpl.style.use(['seaborn'])\n",
        "sns.barplot(x=df.word,y=df['count'])\n",
        "plt.xticks(rotation=90) \n",
        "\n",
        "plt.show()"
      ]
    }
  ],
  "metadata": {
    "colab": {
      "collapsed_sections": [],
      "name": "PL_A1_modelo_joaoalves.ipynb",
      "provenance": []
    },
    "kernelspec": {
      "display_name": "Python 3",
      "name": "python3"
    },
    "language_info": {
      "codemirror_mode": {
        "name": "ipython",
        "version": 3
      },
      "file_extension": ".py",
      "mimetype": "text/x-python",
      "name": "python",
      "nbconvert_exporter": "python",
      "pygments_lexer": "ipython3",
      "version": "3.9.7"
    }
  },
  "nbformat": 4,
  "nbformat_minor": 0
}
